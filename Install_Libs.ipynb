{
 "cells": [
  {
   "cell_type": "markdown",
   "metadata": {},
   "source": [
    "Based on the example of *authorize_notebook_server* from [earth engine api](https://github.com/google/earthengine-api.git)"
   ]
  },
  {
   "cell_type": "markdown",
   "metadata": {},
   "source": [
    "## Install GEE api"
   ]
  },
  {
   "cell_type": "code",
   "execution_count": 1,
   "metadata": {},
   "outputs": [
    {
     "name": "stdout",
     "output_type": "stream",
     "text": [
      "Collecting google-api-python-client\n",
      "\u001b[?25l  Downloading https://files.pythonhosted.org/packages/5e/19/9fd511734c0dee8fa3d49f4109c75e7f95d3c31ed76c0e4a93fbba147807/google-api-python-client-1.7.11.tar.gz (142kB)\n",
      "\u001b[K     |████████████████████████████████| 143kB 2.2MB/s \n",
      "\u001b[?25hCollecting httplib2<1dev,>=0.9.2 (from google-api-python-client)\n",
      "\u001b[?25l  Downloading https://files.pythonhosted.org/packages/60/55/3902b9f33ad9c15abf447ad91b86ef2d0835a1ae78530f1410c115cf8fe3/httplib2-0.13.1-py3-none-any.whl (94kB)\n",
      "\u001b[K     |████████████████████████████████| 102kB 29.9MB/s \n",
      "\u001b[?25hCollecting google-auth>=1.4.1 (from google-api-python-client)\n",
      "\u001b[?25l  Downloading https://files.pythonhosted.org/packages/c5/9b/ed0516cc1f7609fb0217e3057ff4f0f9f3e3ce79a369c6af4a6c5ca25664/google_auth-1.6.3-py2.py3-none-any.whl (73kB)\n",
      "\u001b[K     |████████████████████████████████| 81kB 28.2MB/s \n",
      "\u001b[?25hCollecting google-auth-httplib2>=0.0.3 (from google-api-python-client)\n",
      "  Downloading https://files.pythonhosted.org/packages/33/49/c814d6d438b823441552198f096fcd0377fd6c88714dbed34f1d3c8c4389/google_auth_httplib2-0.0.3-py2.py3-none-any.whl\n",
      "Requirement already satisfied: six<2dev,>=1.6.1 in /opt/conda/lib/python3.7/site-packages (from google-api-python-client) (1.12.0)\n",
      "Collecting uritemplate<4dev,>=3.0.0 (from google-api-python-client)\n",
      "  Downloading https://files.pythonhosted.org/packages/e5/7d/9d5a640c4f8bf2c8b1afc015e9a9d8de32e13c9016dcc4b0ec03481fb396/uritemplate-3.0.0-py2.py3-none-any.whl\n",
      "Collecting rsa>=3.1.4 (from google-auth>=1.4.1->google-api-python-client)\n",
      "  Downloading https://files.pythonhosted.org/packages/02/e5/38518af393f7c214357079ce67a317307936896e961e35450b70fad2a9cf/rsa-4.0-py2.py3-none-any.whl\n",
      "Collecting cachetools>=2.0.0 (from google-auth>=1.4.1->google-api-python-client)\n",
      "  Downloading https://files.pythonhosted.org/packages/2f/a6/30b0a0bef12283e83e58c1d6e7b5aabc7acfc4110df81a4471655d33e704/cachetools-3.1.1-py2.py3-none-any.whl\n",
      "Collecting pyasn1-modules>=0.2.1 (from google-auth>=1.4.1->google-api-python-client)\n",
      "\u001b[?25l  Downloading https://files.pythonhosted.org/packages/be/70/e5ea8afd6d08a4b99ebfc77bd1845248d56cfcf43d11f9dc324b9580a35c/pyasn1_modules-0.2.6-py2.py3-none-any.whl (95kB)\n",
      "\u001b[K     |████████████████████████████████| 102kB 28.8MB/s \n",
      "\u001b[?25hCollecting pyasn1>=0.1.3 (from rsa>=3.1.4->google-auth>=1.4.1->google-api-python-client)\n",
      "\u001b[?25l  Downloading https://files.pythonhosted.org/packages/6a/6e/209351ec34b7d7807342e2bb6ff8a96eef1fd5dcac13bdbadf065c2bb55c/pyasn1-0.4.6-py2.py3-none-any.whl (75kB)\n",
      "\u001b[K     |████████████████████████████████| 81kB 26.8MB/s \n",
      "\u001b[?25hBuilding wheels for collected packages: google-api-python-client\n",
      "  Building wheel for google-api-python-client (setup.py) ... \u001b[?25ldone\n",
      "\u001b[?25h  Stored in directory: /home/jovyan/.cache/pip/wheels/b8/f6/f5/b7bef1a5bc0e07ca4aa54c596b0b574c5afc07a9fddccf08f8\n",
      "Successfully built google-api-python-client\n",
      "Installing collected packages: httplib2, pyasn1, rsa, cachetools, pyasn1-modules, google-auth, google-auth-httplib2, uritemplate, google-api-python-client\n",
      "Successfully installed cachetools-3.1.1 google-api-python-client-1.7.11 google-auth-1.6.3 google-auth-httplib2-0.0.3 httplib2-0.13.1 pyasn1-0.4.6 pyasn1-modules-0.2.6 rsa-4.0 uritemplate-3.0.0\n",
      "Collecting oauth2client\n",
      "\u001b[?25l  Downloading https://files.pythonhosted.org/packages/95/a9/4f25a14d23f0786b64875b91784607c2277eff25d48f915e39ff0cff505a/oauth2client-4.1.3-py2.py3-none-any.whl (98kB)\n",
      "\u001b[K     |████████████████████████████████| 102kB 3.4MB/s \n",
      "\u001b[?25hRequirement already satisfied: six>=1.6.1 in /opt/conda/lib/python3.7/site-packages (from oauth2client) (1.12.0)\n",
      "Requirement already satisfied: pyasn1>=0.1.7 in /opt/conda/lib/python3.7/site-packages (from oauth2client) (0.4.6)\n",
      "Requirement already satisfied: pyasn1-modules>=0.0.5 in /opt/conda/lib/python3.7/site-packages (from oauth2client) (0.2.6)\n",
      "Requirement already satisfied: httplib2>=0.9.1 in /opt/conda/lib/python3.7/site-packages (from oauth2client) (0.13.1)\n",
      "Requirement already satisfied: rsa>=3.1.4 in /opt/conda/lib/python3.7/site-packages (from oauth2client) (4.0)\n",
      "Installing collected packages: oauth2client\n",
      "Successfully installed oauth2client-4.1.3\n",
      "Collecting earthengine-api\n",
      "\u001b[?25l  Downloading https://files.pythonhosted.org/packages/0c/ca/19048c6629bc29be765a50f5a1e8f2589f201c3ceb87eebe2d4aec189fa3/earthengine-api-0.1.191.tar.gz (139kB)\n",
      "\u001b[K     |████████████████████████████████| 143kB 4.9MB/s \n",
      "\u001b[?25hRequirement already satisfied: google-api-python-client in /opt/conda/lib/python3.7/site-packages (from earthengine-api) (1.7.11)\n",
      "Requirement already satisfied: google-auth>=1.4.1 in /opt/conda/lib/python3.7/site-packages (from earthengine-api) (1.6.3)\n",
      "Requirement already satisfied: google-auth-httplib2>=0.0.3 in /opt/conda/lib/python3.7/site-packages (from earthengine-api) (0.0.3)\n",
      "Requirement already satisfied: httplib2<1dev,>=0.9.2 in /opt/conda/lib/python3.7/site-packages (from earthengine-api) (0.13.1)\n",
      "Requirement already satisfied: six in /opt/conda/lib/python3.7/site-packages (from earthengine-api) (1.12.0)\n",
      "Requirement already satisfied: uritemplate<4dev,>=3.0.0 in /opt/conda/lib/python3.7/site-packages (from google-api-python-client->earthengine-api) (3.0.0)\n",
      "Requirement already satisfied: cachetools>=2.0.0 in /opt/conda/lib/python3.7/site-packages (from google-auth>=1.4.1->earthengine-api) (3.1.1)\n",
      "Requirement already satisfied: rsa>=3.1.4 in /opt/conda/lib/python3.7/site-packages (from google-auth>=1.4.1->earthengine-api) (4.0)\n",
      "Requirement already satisfied: pyasn1-modules>=0.2.1 in /opt/conda/lib/python3.7/site-packages (from google-auth>=1.4.1->earthengine-api) (0.2.6)\n",
      "Requirement already satisfied: pyasn1>=0.1.3 in /opt/conda/lib/python3.7/site-packages (from rsa>=3.1.4->google-auth>=1.4.1->earthengine-api) (0.4.6)\n",
      "Building wheels for collected packages: earthengine-api\n",
      "  Building wheel for earthengine-api (setup.py) ... \u001b[?25ldone\n",
      "\u001b[?25h  Stored in directory: /home/jovyan/.cache/pip/wheels/a4/ff/77/51bdd1ef20f15287128267065d92ae4a8001abbfe0e233c73f\n",
      "Successfully built earthengine-api\n",
      "Installing collected packages: earthengine-api\n",
      "Successfully installed earthengine-api-0.1.191\n"
     ]
    }
   ],
   "source": [
    "!pip install google-api-python-client\n",
    "!pip install oauth2client\n",
    "!pip install earthengine-api"
   ]
  },
  {
   "cell_type": "code",
   "execution_count": 2,
   "metadata": {},
   "outputs": [
    {
     "name": "stdout",
     "output_type": "stream",
     "text": [
      "The Earth Engine package failed to initialize!\n"
     ]
    }
   ],
   "source": [
    "import ee\n",
    "\n",
    "try:\n",
    "  ee.Initialize()\n",
    "  print('The Earth Engine package initialized successfully!')\n",
    "except ee.EEException as e:\n",
    "  print('The Earth Engine package failed to initialize!')\n",
    "except:\n",
    "    print(\"Unexpected error:\", sys.exc_info()[0])\n",
    "    raise"
   ]
  },
  {
   "cell_type": "markdown",
   "metadata": {},
   "source": [
    "##  Authenticate to Earth Engine\n",
    "If the initialization process failed, you will need to authenticate the Jupyter Notebook server so that it can communicate with the Earth Engine servers. You can initiate the authentication process by running the following command.\n",
    "\n",
    "*Note that earthengine authenticate is a system command (rather than a Python command), and the cell uses the %%bash cell magic in the first line of the cell to indicate that the cell contents should be executed using a bash shell.*"
   ]
  },
  {
   "cell_type": "code",
   "execution_count": 3,
   "metadata": {},
   "outputs": [
    {
     "name": "stdout",
     "output_type": "stream",
     "text": [
      "Running command using Cloud API.  Set --no-use_cloud_api to go back to using the API\n",
      "\n",
      "Paste the following address into a web browser:\n",
      "\n",
      "    https://accounts.google.com/o/oauth2/auth?client_id=517222506229-vsmmajv00ul0bs7p89v5m89qs8eb9359.apps.googleusercontent.com&scope=https%3A%2F%2Fwww.googleapis.com%2Fauth%2Fearthengine+https%3A%2F%2Fwww.googleapis.com%2Fauth%2Fdevstorage.full_control&redirect_uri=urn%3Aietf%3Awg%3Aoauth%3A2.0%3Aoob&response_type=code\n",
      "\n",
      "On the web page, please authorize access to your Earth Engine account and copy the authentication code. Next authenticate with the following command:\n",
      "\n",
      "    earthengine authenticate --authorization-code=PLACE_AUTH_CODE_HERE\n",
      "\n"
     ]
    }
   ],
   "source": [
    "%%bash\n",
    "earthengine authenticate --quiet"
   ]
  },
  {
   "cell_type": "code",
   "execution_count": 5,
   "metadata": {},
   "outputs": [
    {
     "name": "stdout",
     "output_type": "stream",
     "text": [
      "Running command using Cloud API.  Set --no-use_cloud_api to go back to using the API\n",
      "\n",
      "\n",
      "Successfully saved authorization token.\n"
     ]
    }
   ],
   "source": [
    "%%bash\n",
    "earthengine authenticate --authorization-code=4/qQErNGK-mCULWG7BgKV-RSGQgbwbUmlBmnlBaH_tcDPQQi2ARcyNqfA"
   ]
  },
  {
   "cell_type": "code",
   "execution_count": 6,
   "metadata": {},
   "outputs": [
    {
     "name": "stdout",
     "output_type": "stream",
     "text": [
      "usage: earthengine upload image [-h] [--wait [WAIT]] [--force]\n",
      "                                [--asset_id ASSET_ID] [--last_band_alpha]\n",
      "                                [--nodata_value NODATA_VALUE]\n",
      "                                [--pyramiding_policy PYRAMIDING_POLICY]\n",
      "                                [--bands BANDS] [--crs CRS]\n",
      "                                [--manifest MANIFEST] [--property PROPERTY]\n",
      "                                [--time_start TIME_START]\n",
      "                                [--time_end TIME_END]\n",
      "                                [src_files [src_files ...]]\n",
      "\n",
      "Uploads an image from Cloud Storage to Earth Engine. See docs for \"asset set\"\n",
      "for additional details on how to specify asset metadata properties.\n",
      "\n",
      "positional arguments:\n",
      "  src_files             Cloud Storage URL(s) of the file(s) to upload. Must\n",
      "                        have the prefix 'gs://'.\n",
      "\n",
      "optional arguments:\n",
      "  -h, --help            show this help message and exit\n",
      "  --wait [WAIT], -w [WAIT]\n",
      "                        Wait for the task to finish, or timeout after the\n",
      "                        specified number of seconds. Without this flag, the\n",
      "                        command just starts an export task in the background,\n",
      "                        and returns immediately.\n",
      "  --force, -f           Overwrite any existing version of the asset.\n",
      "  --asset_id ASSET_ID   Destination asset ID for the uploaded file.\n",
      "  --last_band_alpha     Use the last band as a masking channel for all bands.\n",
      "                        Mutually exclusive with nodata_value.\n",
      "  --nodata_value NODATA_VALUE\n",
      "                        Value for missing data. Mutually exclusive with\n",
      "                        last_band_alpha.\n",
      "  --pyramiding_policy PYRAMIDING_POLICY\n",
      "                        The pyramid reduction policy to use\n",
      "  --bands BANDS         Comma-separated list of names to use for the image\n",
      "                        bands.\n",
      "  --crs CRS             The coordinate reference system, to override the map\n",
      "                        projection of the image. May be either a well-known\n",
      "                        authority code (e.g. EPSG:4326) or a WKT string.\n",
      "  --manifest MANIFEST   Local path to a JSON asset manifest file. No other\n",
      "                        flags are used if this flag is set.\n",
      "  --property PROPERTY, -p PROPERTY\n",
      "                        A property to set, in the form [(type)]name=value. If\n",
      "                        no type is specified the type will be \"number\" if the\n",
      "                        value is numeric and \"string\" otherwise. May be\n",
      "                        provided multiple times.\n",
      "  --time_start TIME_START, -ts TIME_START\n",
      "                        Sets the start time property to a number or date.\n",
      "  --time_end TIME_END, -te TIME_END\n",
      "                        Sets the end time property to a number or date.\n"
     ]
    }
   ],
   "source": [
    "!earthengine upload image -h"
   ]
  },
  {
   "cell_type": "code",
   "execution_count": 7,
   "metadata": {},
   "outputs": [
    {
     "data": {
      "text/html": [
       "<img src=\"https://earthengine.googleapis.com/api/thumb?thumbid=d08af4ea485456f2ca6ba058e1190e1b&token=c2c8468321f490448c858c4e952f6059\"/>"
      ],
      "text/plain": [
       "<IPython.core.display.Image object>"
      ]
     },
     "execution_count": 7,
     "metadata": {},
     "output_type": "execute_result"
    }
   ],
   "source": [
    "import ee\n",
    "from IPython.display import Image\n",
    "\n",
    "# Initialize the Earth Engine module.\n",
    "ee.Initialize()\n",
    "\n",
    "# Display a thumbnail of a sample image asset.\n",
    "Image(url=ee.Image('CGIAR/SRTM90_V4').getThumbUrl({'min': 0, 'max': 3000}))"
   ]
  },
  {
   "cell_type": "markdown",
   "metadata": {},
   "source": [
    "## Install other geo libs"
   ]
  },
  {
   "cell_type": "code",
   "execution_count": 8,
   "metadata": {},
   "outputs": [
    {
     "name": "stdout",
     "output_type": "stream",
     "text": [
      "Collecting astropy\n",
      "\u001b[?25l  Downloading https://files.pythonhosted.org/packages/ae/27/4cd019143d3af49be9dd2a8ac69b27bd08a66cee8e43f8639bc59d374ae3/astropy-3.2.1-cp37-cp37m-manylinux1_x86_64.whl (6.3MB)\n",
      "\u001b[K     |████████████████████████████████| 6.3MB 2.6MB/s \n",
      "\u001b[?25hInstalling collected packages: astropy\n",
      "Successfully installed astropy-3.2.1\n"
     ]
    }
   ],
   "source": [
    "!pip install astropy --no-deps"
   ]
  },
  {
   "cell_type": "code",
   "execution_count": null,
   "metadata": {},
   "outputs": [],
   "source": []
  }
 ],
 "metadata": {
  "kernelspec": {
   "display_name": "Python 3",
   "language": "python",
   "name": "python3"
  },
  "language_info": {
   "codemirror_mode": {
    "name": "ipython",
    "version": 3
   },
   "file_extension": ".py",
   "mimetype": "text/x-python",
   "name": "python",
   "nbconvert_exporter": "python",
   "pygments_lexer": "ipython3",
   "version": "3.7.3"
  }
 },
 "nbformat": 4,
 "nbformat_minor": 2
}
